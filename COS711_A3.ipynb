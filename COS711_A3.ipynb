{
  "nbformat": 4,
  "nbformat_minor": 0,
  "metadata": {
    "colab": {
      "name": "COS711_A3.ipynb",
      "provenance": [],
      "collapsed_sections": [],
      "mount_file_id": "1dhEmcFzJkAPgk0tzsBC3wK0CS7zbSXwS",
      "authorship_tag": "ABX9TyO3FJ7aXYH47IcdUVwdpkpN",
      "include_colab_link": true
    },
    "kernelspec": {
      "name": "python3",
      "display_name": "Python 3"
    },
    "language_info": {
      "name": "python"
    }
  },
  "cells": [
    {
      "cell_type": "markdown",
      "metadata": {
        "id": "view-in-github",
        "colab_type": "text"
      },
      "source": [
        "<a href=\"https://colab.research.google.com/github/Glasses-kun/COS711_A3/blob/main/COS711_A3.ipynb\" target=\"_parent\"><img src=\"https://colab.research.google.com/assets/colab-badge.svg\" alt=\"Open In Colab\"/></a>"
      ]
    },
    {
      "cell_type": "code",
      "metadata": {
        "id": "MN2u0uMFG2Fr",
        "colab": {
          "base_uri": "https://localhost:8080/"
        },
        "outputId": "3dc2a86a-19aa-4a72-fe9c-4d78f21a5e65"
      },
      "source": [
        "import numpy as np\n",
        "import random as rn\n",
        "import matplotlib.pyplot as plt\n",
        "import pandas as pd\n",
        "import pickle\n",
        "import os\n",
        "import cv2\n",
        "\n",
        "import tensorflow as tf\n",
        "from tensorflow.keras import layers, models\n",
        "from sklearn.preprocessing import LabelEncoder\n",
        "from tensorflow.keras.preprocessing.image import img_to_array\n",
        "from tensorflow.keras.preprocessing.image import ImageDataGenerator\n",
        "\n",
        "num_augmentations = 23\n",
        "length_data = 3001 * (num_augmentations + 1)\n",
        "split_index = int(0.9 * length_data)\n",
        "IMG_SIZE = 64\n",
        "\n",
        "print(split_index)\n",
        "seed = 12\n",
        "rn.seed(seed)\n",
        "np.random.seed(seed)\n",
        "tf.random.set_seed(seed)"
      ],
      "execution_count": null,
      "outputs": [
        {
          "output_type": "stream",
          "name": "stdout",
          "text": [
            "64821\n"
          ]
        }
      ]
    },
    {
      "cell_type": "code",
      "metadata": {
        "id": "iB8AeCBILbde"
      },
      "source": [
        "# dataDirectory = \"/content/drive/MyDrive/Colab Notebooks/COS711_A3_Files\"\n",
        "# path = os.path.join(dataDirectory, \"Train_Images\")\n",
        "# img_data = {}\n",
        "# for img in os.listdir(path):\n",
        "#     img_array = cv2.imread(os.path.join(path, img))\n",
        "#     img_array = cv2.resize(img_array, (IMG_SIZE, IMG_SIZE))\n",
        "#     img_data[img] = img_array\n",
        "\n",
        "# pickle_out = open(\"/content/drive/MyDrive/Colab Notebooks/COS711_A3_Files/training_data_resized_64x64.pickle\", \"wb\")\n",
        "# pickle.dump(img_data, pickle_out)\n",
        "# pickle_out.close()"
      ],
      "execution_count": null,
      "outputs": []
    },
    {
      "cell_type": "code",
      "metadata": {
        "id": "66EEv5hXjbSO"
      },
      "source": [
        "pickle_in = open(\"/content/drive/MyDrive/Colab Notebooks/COS711_A3_Files/training_data_resized_64x64.pickle\", \"rb\")\n",
        "img_training_data = pickle.load(pickle_in)\n",
        "pickle_in.close()\n",
        "\n",
        "# print(np.shape(img_training_data.get(\"ID_2G1WM3NV.jpg\")))\n",
        "# print(type(img_training_data.get(\"ID_2G1WM3NV.jpg\")))\n",
        "\n",
        "# plt.imshow(img_training_data.get(\"ID_I27QOAFF.jpg\"))\n",
        "# plt.show()"
      ],
      "execution_count": null,
      "outputs": []
    },
    {
      "cell_type": "code",
      "metadata": {
        "id": "L_J3jTdTOLfH"
      },
      "source": [
        "datagen = ImageDataGenerator(\n",
        "    rotation_range=40,\n",
        "    width_shift_range=0.2,\n",
        "    height_shift_range=0.2,\n",
        "    shear_range=0.2,\n",
        "    zoom_range=[0.8, 1.2],\n",
        "    brightness_range=[0.75, 1.50],\n",
        "    horizontal_flip=True,\n",
        "    fill_mode='nearest')"
      ],
      "execution_count": null,
      "outputs": []
    },
    {
      "cell_type": "code",
      "metadata": {
        "colab": {
          "base_uri": "https://localhost:8080/"
        },
        "id": "M_sLpld6fdnz",
        "outputId": "5bf3df2b-6caf-4345-9e3f-c325c4217229"
      },
      "source": [
        "raw_labels = pd.read_csv(\"/content/drive/MyDrive/Colab Notebooks/COS711_A3_Files/Train.csv\")\n",
        "raw_labels = raw_labels.to_numpy()\n",
        "\n",
        "data = np.zeros( (length_data, IMG_SIZE, IMG_SIZE, 3), dtype=np.uint8 )\n",
        "img_processed = []\n",
        "labels = []\n",
        "data_index = 0\n",
        "\n",
        "for label in raw_labels:\n",
        "    if label[0] not in img_processed:\n",
        "        img_processed.append(label[0])\n",
        "        img = img_to_array( img_training_data.get(label[0] + \".jpg\") ).astype(np.uint8)\n",
        "        img = img.reshape((1,) + img.shape) # Maybe np.change_dims would work better?\n",
        "        gen_flow = datagen.flow(img)\n",
        "        for i in range(num_augmentations):\n",
        "            temp_img = img_to_array( next(gen_flow)[0] ).astype(np.uint8)\n",
        "            data[data_index] = temp_img\n",
        "            data_index += 1\n",
        "            labels.append(label[1])\n",
        "        data[data_index] = img\n",
        "        data_index += 1\n",
        "        labels.append(label[1])\n",
        "\n",
        "print(len(data))\n",
        "print(np.shape(data))"
      ],
      "execution_count": null,
      "outputs": [
        {
          "output_type": "stream",
          "name": "stdout",
          "text": [
            "72024\n",
            "(72024, 64, 64, 3)\n"
          ]
        }
      ]
    },
    {
      "cell_type": "code",
      "metadata": {
        "id": "heqEHHgL-Qew"
      },
      "source": [
        "labels = LabelEncoder().fit_transform(labels)\n",
        "\n",
        "[training_data, testing_data] = np.split(data, [split_index])\n",
        "[training_labels, testing_labels] = np.split(labels, [split_index])\n",
        "\n",
        "lr = 0.001\n",
        "decay_rate = lr / 20\n",
        "m = 0.75\n",
        "\n",
        "sgd = tf.keras.optimizers.SGD(learning_rate=lr, momentum=m, decay=decay_rate, nesterov=False)\n",
        "adam = tf.keras.optimizers.Adam(learning_rate=lr)"
      ],
      "execution_count": null,
      "outputs": []
    },
    {
      "cell_type": "code",
      "metadata": {
        "id": "_0XW0-1SXiuS"
      },
      "source": [
        "model = models.Sequential()\n",
        "model.add(layers.Conv2D(16, (3, 3), activation='relu', input_shape=(IMG_SIZE, IMG_SIZE, 3)))\n",
        "model.add(layers.MaxPooling2D((2, 2)))\n",
        "model.add(layers.Conv2D(32, (3, 3), activation='relu'))\n",
        "model.add(layers.MaxPooling2D((2, 2)))\n",
        "model.add(layers.Conv2D(32, (3, 3), activation='relu'))\n",
        "\n",
        "model.add(layers.Flatten())\n",
        "model.add(layers.Dense(32, activation='relu'))\n",
        "model.add(layers.Dense(3))\n",
        "\n",
        "model.compile(optimizer=adam,\n",
        "              loss=tf.keras.losses.SparseCategoricalCrossentropy(from_logits=True),\n",
        "              metrics=['accuracy'])\n",
        "\n",
        "# model.summary()"
      ],
      "execution_count": null,
      "outputs": []
    },
    {
      "cell_type": "code",
      "metadata": {
        "colab": {
          "base_uri": "https://localhost:8080/"
        },
        "id": "mJHaUQKwgtSp",
        "outputId": "38ac2285-bfe4-4fb8-c6c7-30376e74ee9c"
      },
      "source": [
        "history = model.fit(training_data, training_labels, epochs=8, batch_size=32)"
      ],
      "execution_count": null,
      "outputs": [
        {
          "output_type": "stream",
          "name": "stdout",
          "text": [
            "Epoch 1/8\n",
            "2026/2026 [==============================] - 219s 108ms/step - loss: 0.8519 - accuracy: 0.6661\n",
            "Epoch 2/8\n",
            "2026/2026 [==============================] - 218s 107ms/step - loss: 0.4238 - accuracy: 0.8368\n",
            "Epoch 3/8\n",
            "2026/2026 [==============================] - 219s 108ms/step - loss: 0.3084 - accuracy: 0.8867\n",
            "Epoch 4/8\n",
            "2026/2026 [==============================] - 224s 111ms/step - loss: 0.2367 - accuracy: 0.9131\n",
            "Epoch 5/8\n",
            "2026/2026 [==============================] - 224s 111ms/step - loss: 0.1949 - accuracy: 0.9297\n",
            "Epoch 6/8\n",
            "2026/2026 [==============================] - 225s 111ms/step - loss: 0.1680 - accuracy: 0.9396\n",
            "Epoch 7/8\n",
            "2026/2026 [==============================] - 225s 111ms/step - loss: 0.1394 - accuracy: 0.9492\n",
            "Epoch 8/8\n",
            "2026/2026 [==============================] - 224s 110ms/step - loss: 0.1223 - accuracy: 0.9562\n"
          ]
        }
      ]
    },
    {
      "cell_type": "code",
      "metadata": {
        "colab": {
          "base_uri": "https://localhost:8080/"
        },
        "id": "aePz9AX5gqcf",
        "outputId": "5109ff48-79d1-4427-d848-14c6aa78a4c2"
      },
      "source": [
        "model.evaluate(testing_data, testing_labels, verbose=1)"
      ],
      "execution_count": null,
      "outputs": [
        {
          "output_type": "stream",
          "name": "stdout",
          "text": [
            "226/226 [==============================] - 8s 36ms/step - loss: 0.2987 - accuracy: 0.9182\n"
          ]
        },
        {
          "output_type": "execute_result",
          "data": {
            "text/plain": [
              "[0.2986588776111603, 0.9182285070419312]"
            ]
          },
          "metadata": {},
          "execution_count": 29
        }
      ]
    },
    {
      "cell_type": "code",
      "metadata": {
        "colab": {
          "base_uri": "https://localhost:8080/"
        },
        "id": "tbHwokf8ZFV7",
        "outputId": "e60f53ad-6bb8-477d-c951-1b77c2d07e46"
      },
      "source": [
        "print(seed)"
      ],
      "execution_count": null,
      "outputs": [
        {
          "output_type": "stream",
          "name": "stdout",
          "text": [
            "12\n"
          ]
        }
      ]
    }
  ]
}